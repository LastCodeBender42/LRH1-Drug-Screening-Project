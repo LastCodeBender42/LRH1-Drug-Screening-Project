{
  "cells": [
    {
      "cell_type": "markdown",
      "metadata": {
        "id": "view-in-github",
        "colab_type": "text"
      },
      "source": [
        "<a href=\"https://colab.research.google.com/github/LastCodeBender42/LRH1-Drug-Screening-Project/blob/main/00_LRH1_Drug_Screening_Project_Summary.ipynb\" target=\"_parent\"><img src=\"https://colab.research.google.com/assets/colab-badge.svg\" alt=\"Open In Colab\"/></a>"
      ]
    },
    {
      "cell_type": "markdown",
      "id": "ddfd94c0-c14b-4caa-add0-226f40958462",
      "metadata": {
        "id": "ddfd94c0-c14b-4caa-add0-226f40958462"
      },
      "source": [
        "# Drug Screening Project: Summary and Results\n",
        "\n",
        "Drug screening methods are crucial in the process of discovering and developing new medications. These methods involve testing a large number of compounds to identify potential drugs that can interact with specific biological targets. Traditional drug screening techniques include high-throughput screening (HTS), where thousands of compounds are tested in parallel, and in vitro assays, which evaluate the biological activity of compounds in cell cultures or biochemical assays. Recently, network analysis has emerged as a powerful tool in drug discovery. By leveraging computational and mathematical models, network analysis can map and analyze the complex interactions within biological systems. This approach helps identify key nodes and pathways that are critical in disease processes, thereby highlighting potential targets for drug intervention. Additionally, network analysis can predict off-target effects and drug repurposing opportunities by examining the connectivity and relationships between different biological entities. Combining traditional drug screening methods with network analysis enhances the efficiency and effectiveness of the drug discovery process, ultimately leading to the development of more targeted and safer therapeutic options.\n",
        "\n",
        "## Contents:\n",
        "- [LRH-1: A Target for Diabetes Treatment](#lrh-1-a-target-for-diabetes-treatment)\n",
        "- [Screening and Prioritizing Drug Candidates](#screening-and-prioritizing-drug-candidates)\n",
        "- [Binding Energy for Small Molecules vs. Phospholipids](#binding-energy-for-small-molecules-vs-phospholipids)\n",
        "- [Network Analysis of LRH-1 Protein Structure Networks](#network-analysis-of-lrh-1-protein-structure-networks)\n",
        "- [Network Analysis Identifies Mechanisms Driving Differential Binding Energy](#network-analysis-identifies-mechanisms-driving-differential-binding-energy)\n",
        "- [Relevance to My Professional Experience](#relevance-to-my-professional-experience)\n",
        "\n",
        "<a id=\"lrh-1-a-target-for-diabetes-treatment\"></a>\n",
        "# LRH-1: A Target for Diabetes Treatment\n",
        "\n",
        "Liver receptor homolog-1 (LRH-1) is a nuclear receptor that plays a significant role in regulating various metabolic processes, including glucose homeostasis, making it a promising target for diabetes treatment. Studies have suggested that LRH-1 may be implicated in the pathogenesis of type 2 diabetes mellitus (T2DM). Altered expression or activity of LRH-1 has been observed in animal models of diabetes and in individuals with T2DM. LRH-1 dysregulation may contribute to insulin resistance, impaired glucose tolerance, and other metabolic abnormalities associated with diabetes.\n",
        "\n",
        "Research into LRH-1-targeted drugs involves sophisticated drug screening methods to identify compounds that can modulate this receptor's activity. HTS techniques are employed to test vast libraries of chemical compounds for their ability to regulate LRH-1 activity. Additionally, network analysis is utilized to understand the intricate biological pathways associated with LRH-1, helping to pinpoint its influence on glucose metabolism and identify potential side effects. By focusing on LRH-1, researchers aim to develop novel therapeutics that can enhance insulin sensitivity and glucose uptake, thereby alleviating symptoms of diabetes. The integration of these advanced screening methods and computational analyses accelerates the discovery of effective LRH-1 modulators, offering new hope for diabetes management and treatment.\n",
        "\n",
        "[Dr. Ray Blind](https://www.vanderbilt.edu/csb/faculty-core/ray-blind/) is a professor with Vanderbilt University Medical Center and School of Medicine. Part of the focus of Dr. Blind's research is identifying compounds that target nuclear signaling enzymes implicated in cancer and diabetes. LRH-1 protein is of interest to many researchers due to its association with antidiabetic effects.\n",
        "\n",
        "![image](https://github.com/LastCodeBender42/Data-Vizualization-and-Analysis/assets/159676076/eebf192c-ca97-43b3-8251-7c0f8034fa3a)\n",
        "\n",
        "**Figure 1.** A cartoon representation of the human liver receptor homologue-1 (LRH-1) protein.\n",
        "\n",
        "#### NOTE: A slide presentation of this project can be found [here](https://analysisandinformatics.org/lrh1-presentation)\n",
        "---\n",
        "\n",
        "<a id=\"screening-and-prioritizing-drug-candidates\"></a>\n",
        "# Screening and Prioritizing Drug Candidates\n",
        "\n",
        "To identify potential activators of LRH-1 The Blind Lab performed wet lab experiments which scanned a library of 2322 compounds. During this process, Dr. Blind identified a set of 58 compounds that positively regulated LRH-1 in cells. Through further computational investigation, ***a novel method*** for ranking drug candidates as potential regulators for LRH-1 was developed. Denoted by $\\Delta\\Delta G$ this method is given as\n",
        "\n",
        "\n",
        "## $$\\Delta\\Delta G = |\\Delta G_{FL}| - |\\Delta G_{LBD}|$$\n",
        "\n",
        "\n",
        "where\n",
        "\n",
        "<ol>\n",
        "$\\Delta G_{FL}$ is the binding score of a docked molecule to the full-length LRH-1 structure and\n",
        "</ol>\n",
        "\n",
        "<ol>\n",
        "$\\Delta G_{LBD}$ is the binding score of each of a docked molecule to the isolated LRH-1 ligand binding domain.\n",
        "</ol>\n",
        "\n",
        "# The significance:\n",
        "Given the positive association between higher $\\Delta\\Delta G$ values and LRH-1 regulation, then it would make sense that future investigations would prioritize candidates ranked by higher $\\Delta\\Delta G$.\n",
        "\n",
        "<a id=\"binding-energy-for-small-molecules-vs-phospholipids\"></a>\n",
        "# Binding Energy for Small Molecules vs. Phospholipids\n",
        "\n",
        "Physical mechanisms driving the $\\Delta\\Delta G$ were investigated by docking each of the 58 compounds to the 18 crystal structures. Of the 18, 9 were co-crystalized with small molecules and 9 with phospholipids. Then the $\\Delta\\Delta G$ for each of the 58 compounds were averaged for each crystal structure so that a new metric denoted by $\\Delta\\Delta G_{XSTAL}$ was created for each structure. (Fig 2). regardless of LRH-1 regulation the phospholipid structures possessed a $\\Delta\\Delta G_{XSTAL}$ $\\leq$ 1.0 and small molecule structures a $\\Delta\\Delta G_{XSTAL}$ $\\geq$ 2.0.\n",
        "\n",
        "It is noteworthy that the characteristic low vs. high $\\Delta\\Delta G_{XSTAL}$ values for phospholipid and small molecule structures is independent of a docked compound's LRH-1 regulation. This implies that the resulting low vs. high $\\Delta\\Delta G_{XSTAL}$ values must be driven by structural changes due to small molecule and phospholipid co-crystalization.\n",
        "\n",
        "---\n",
        "![image](https://github.com/LastCodeBender42/Data-Vizualization-and-Analysis/assets/159676076/b06091e1-eaab-4426-8efa-ae64b996c13a)\n",
        "\n",
        "**Figure 2.** Crystal structures and their averaged $\\Delta\\Delta G_{XSTAL}$ values.\n",
        "\n",
        "---\n",
        "\n",
        "<a id=\"network-analysis-of-lrh-1-protein-structure-networks\"></a>\n",
        "# Network Analysis of LRH-1 Protein Structure Networks\n",
        "\n",
        "Previously, I had published a [paper](https://www.ncbi.nlm.nih.gov/pmc/articles/PMC8246261/pdf/main.pdf) using network analysis to characterize conformational changes in protein structure networks for two other protein systems, constitutive androstane receptor (CAR) and ribonucleotide reductase (RNR). In this work I compared four measures of network centrality to quantify changes in residue-residue contacts from molecular dynamics (MD) simulations. Based on our discussions Dr. Blind was intrigued by the possibility of using network analysis to understand what structural changes were driving the consistency in low vs high $\\Delta\\Delta G_{XSTAL}$ values.\n",
        "\n",
        "<a id=\"network-analysis-identifies-mechanisms-driving-differential-binding-energy\"></a>\n",
        "# Network Analysis Identifies Mechanisms Driving Differential Binding Energy\n",
        "\n",
        "To begin, I averaged eigenvector centrality values across all amino acids in each secondary structural element of LRH-1. Then I applied principal component analysis to analyze this multi-dimensional data. I found that the variance in PC1 formed two distinct clusters: 1) low $\\Delta\\Delta G_{XSTAL}$ structures bound by phospholipids and 2)  high $\\Delta\\Delta G_{XSTAL}$ structures bound by synthetic small molecules. (Fig 3A). This result demonstrates that the topology, or architecture, of the PSNs reflects the unique underlying structure of the two groups of crystal structures, small molecule vs. phospholipid.\n",
        "\n",
        "Next, I examined the network edges that are unique to each of the two groups of crystal structures. These edges were then mapped onto visualizations of the 3D protein structure so that the network's relationship to the physical structure of the protein is evident. On visual inspection, clear differences exist between the low vs. high $\\Delta\\Delta G_{XSTAL}$, or small molecule vs. phospholipid groups. (Fig 3B). Specifically, the nine structures with the highest $\\Delta\\Delta G_{XSTAL}$ values, the small-molecule group, favor Helix 6 having a position that constricts the entrance to the ligand binding pocket. Whereas the nine structures with lowest $\\Delta\\Delta G_{XSTAL}$ values, the phospholipid group, showed the opposite positioning which opens up the entrance to the ligand binding pocket. This would has a direct effect on the physical ability of the 58 test compounds to bind in the ligand binding pocket and would, therefore, effect their binding energy differentially.\n",
        "\n",
        "---\n",
        "<img width=\"1126\" alt=\"image\" src=\"https://github.com/LastCodeBender42/Data-Vizualization-and-Analysis/assets/159676076/cf8cf236-20e4-4f43-92ba-1b936495d3fe\">\n",
        "\n",
        "**Figure 3.** Eigenvector centraility clusters small molecule and phospholipid PSNs and identifies physical mechanisms associated with low vs. high $\\Delta\\Delta G_{XSTAL}$ values.\n",
        "\n",
        "---\n",
        "\n",
        "<a id=\"relevance-to-my-professional-experience\"></a>\n",
        "# Relevance to My Professional Experience\n",
        "\n",
        "I am not a structural biologist. I do not have a background in structural biology. However, I have demonstrated the ability to apply my analytical skill set to highly specialized fields to generate results that give explanation to complex phenomena.\n"
      ]
    },
    {
      "cell_type": "code",
      "execution_count": null,
      "id": "2c4452fa-8ba2-4030-b13f-da77a90f00cb",
      "metadata": {
        "id": "2c4452fa-8ba2-4030-b13f-da77a90f00cb"
      },
      "outputs": [],
      "source": []
    }
  ],
  "metadata": {
    "kernelspec": {
      "display_name": "Python 3 (ipykernel)",
      "language": "python",
      "name": "python3"
    },
    "language_info": {
      "codemirror_mode": {
        "name": "ipython",
        "version": 3
      },
      "file_extension": ".py",
      "mimetype": "text/x-python",
      "name": "python",
      "nbconvert_exporter": "python",
      "pygments_lexer": "ipython3",
      "version": "3.10.14"
    },
    "colab": {
      "provenance": [],
      "include_colab_link": true
    }
  },
  "nbformat": 4,
  "nbformat_minor": 5
}